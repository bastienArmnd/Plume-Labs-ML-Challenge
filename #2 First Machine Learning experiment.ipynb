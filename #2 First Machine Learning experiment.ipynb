{
 "cells": [
  {
   "cell_type": "markdown",
   "metadata": {},
   "source": [
    "#  <span style=\"color:red\">DATA SET</span>"
   ]
  },
  {
   "cell_type": "code",
   "execution_count": 1,
   "metadata": {},
   "outputs": [],
   "source": [
    "import pandas as pd\n",
    "import numpy as np\n",
    "import seaborn as sns\n",
    "import matplotlib.pyplot as plt\n",
    "from sklearn.metrics import mean_absolute_error, mean_squared_error, mean_squared_log_error\n",
    "from sklearn.model_selection import train_test_split\n",
    "\n",
    "%matplotlib inline"
   ]
  },
  {
   "cell_type": "code",
   "execution_count": 22,
   "metadata": {},
   "outputs": [],
   "source": [
    "df_train_X = pd.read_csv('df_train_x_nona.csv')\n",
    "df_train_Y = pd.read_csv('train_Y_5fzj9UT.csv')"
   ]
  },
  {
   "cell_type": "code",
   "execution_count": 23,
   "metadata": {},
   "outputs": [
    {
     "data": {
      "text/html": [
       "<div>\n",
       "<style scoped>\n",
       "    .dataframe tbody tr th:only-of-type {\n",
       "        vertical-align: middle;\n",
       "    }\n",
       "\n",
       "    .dataframe tbody tr th {\n",
       "        vertical-align: top;\n",
       "    }\n",
       "\n",
       "    .dataframe thead th {\n",
       "        text-align: right;\n",
       "    }\n",
       "</style>\n",
       "<table border=\"1\" class=\"dataframe\">\n",
       "  <thead>\n",
       "    <tr style=\"text-align: right;\">\n",
       "      <th></th>\n",
       "      <th>ID</th>\n",
       "      <th>value</th>\n",
       "    </tr>\n",
       "  </thead>\n",
       "  <tbody>\n",
       "    <tr>\n",
       "      <th>0</th>\n",
       "      <td>0</td>\n",
       "      <td>48.0</td>\n",
       "    </tr>\n",
       "    <tr>\n",
       "      <th>1</th>\n",
       "      <td>1</td>\n",
       "      <td>50.0</td>\n",
       "    </tr>\n",
       "    <tr>\n",
       "      <th>2</th>\n",
       "      <td>2</td>\n",
       "      <td>62.0</td>\n",
       "    </tr>\n",
       "    <tr>\n",
       "      <th>3</th>\n",
       "      <td>3</td>\n",
       "      <td>67.0</td>\n",
       "    </tr>\n",
       "    <tr>\n",
       "      <th>4</th>\n",
       "      <td>4</td>\n",
       "      <td>75.0</td>\n",
       "    </tr>\n",
       "  </tbody>\n",
       "</table>\n",
       "</div>"
      ],
      "text/plain": [
       "   ID  value\n",
       "0   0   48.0\n",
       "1   1   50.0\n",
       "2   2   62.0\n",
       "3   3   67.0\n",
       "4   4   75.0"
      ]
     },
     "execution_count": 23,
     "metadata": {},
     "output_type": "execute_result"
    }
   ],
   "source": [
    "df_train_Y.head()"
   ]
  },
  {
   "cell_type": "code",
   "execution_count": 24,
   "metadata": {},
   "outputs": [
    {
     "data": {
      "text/html": [
       "<div>\n",
       "<style scoped>\n",
       "    .dataframe tbody tr th:only-of-type {\n",
       "        vertical-align: middle;\n",
       "    }\n",
       "\n",
       "    .dataframe tbody tr th {\n",
       "        vertical-align: top;\n",
       "    }\n",
       "\n",
       "    .dataframe thead th {\n",
       "        text-align: right;\n",
       "    }\n",
       "</style>\n",
       "<table border=\"1\" class=\"dataframe\">\n",
       "  <thead>\n",
       "    <tr style=\"text-align: right;\">\n",
       "      <th></th>\n",
       "      <th>ID</th>\n",
       "      <th>station_id</th>\n",
       "      <th>hdres_100</th>\n",
       "      <th>hdres_500</th>\n",
       "      <th>ldres_100</th>\n",
       "      <th>ldres_500</th>\n",
       "      <th>industry_100</th>\n",
       "      <th>industry_500</th>\n",
       "      <th>urbgreen_100</th>\n",
       "      <th>urbgreen_500</th>\n",
       "      <th>...</th>\n",
       "      <th>value_0</th>\n",
       "      <th>value_1</th>\n",
       "      <th>value_2</th>\n",
       "      <th>value_3</th>\n",
       "      <th>value_4</th>\n",
       "      <th>value_5</th>\n",
       "      <th>value_6</th>\n",
       "      <th>value_7</th>\n",
       "      <th>value_8</th>\n",
       "      <th>value_9</th>\n",
       "    </tr>\n",
       "  </thead>\n",
       "  <tbody>\n",
       "    <tr>\n",
       "      <th>0</th>\n",
       "      <td>0</td>\n",
       "      <td>105</td>\n",
       "      <td>0.0</td>\n",
       "      <td>0.0</td>\n",
       "      <td>1.0</td>\n",
       "      <td>0.929</td>\n",
       "      <td>0.0</td>\n",
       "      <td>0.033</td>\n",
       "      <td>0.0</td>\n",
       "      <td>0.022</td>\n",
       "      <td>...</td>\n",
       "      <td>53.0</td>\n",
       "      <td>46.0</td>\n",
       "      <td>52.0</td>\n",
       "      <td>44.0</td>\n",
       "      <td>40.0</td>\n",
       "      <td>38.0</td>\n",
       "      <td>54.0</td>\n",
       "      <td>36.0</td>\n",
       "      <td>39.0</td>\n",
       "      <td>42.0</td>\n",
       "    </tr>\n",
       "    <tr>\n",
       "      <th>1</th>\n",
       "      <td>1</td>\n",
       "      <td>105</td>\n",
       "      <td>0.0</td>\n",
       "      <td>0.0</td>\n",
       "      <td>1.0</td>\n",
       "      <td>0.929</td>\n",
       "      <td>0.0</td>\n",
       "      <td>0.033</td>\n",
       "      <td>0.0</td>\n",
       "      <td>0.022</td>\n",
       "      <td>...</td>\n",
       "      <td>55.0</td>\n",
       "      <td>47.0</td>\n",
       "      <td>54.0</td>\n",
       "      <td>45.0</td>\n",
       "      <td>41.0</td>\n",
       "      <td>39.0</td>\n",
       "      <td>55.0</td>\n",
       "      <td>37.0</td>\n",
       "      <td>40.0</td>\n",
       "      <td>43.0</td>\n",
       "    </tr>\n",
       "    <tr>\n",
       "      <th>2</th>\n",
       "      <td>2</td>\n",
       "      <td>105</td>\n",
       "      <td>0.0</td>\n",
       "      <td>0.0</td>\n",
       "      <td>1.0</td>\n",
       "      <td>0.929</td>\n",
       "      <td>0.0</td>\n",
       "      <td>0.033</td>\n",
       "      <td>0.0</td>\n",
       "      <td>0.022</td>\n",
       "      <td>...</td>\n",
       "      <td>84.5</td>\n",
       "      <td>54.0</td>\n",
       "      <td>78.0</td>\n",
       "      <td>49.0</td>\n",
       "      <td>47.0</td>\n",
       "      <td>42.0</td>\n",
       "      <td>63.0</td>\n",
       "      <td>42.0</td>\n",
       "      <td>48.0</td>\n",
       "      <td>49.0</td>\n",
       "    </tr>\n",
       "    <tr>\n",
       "      <th>3</th>\n",
       "      <td>3</td>\n",
       "      <td>105</td>\n",
       "      <td>0.0</td>\n",
       "      <td>0.0</td>\n",
       "      <td>1.0</td>\n",
       "      <td>0.929</td>\n",
       "      <td>0.0</td>\n",
       "      <td>0.033</td>\n",
       "      <td>0.0</td>\n",
       "      <td>0.022</td>\n",
       "      <td>...</td>\n",
       "      <td>97.0</td>\n",
       "      <td>59.0</td>\n",
       "      <td>84.0</td>\n",
       "      <td>55.0</td>\n",
       "      <td>58.0</td>\n",
       "      <td>48.0</td>\n",
       "      <td>72.0</td>\n",
       "      <td>51.0</td>\n",
       "      <td>57.0</td>\n",
       "      <td>59.0</td>\n",
       "    </tr>\n",
       "    <tr>\n",
       "      <th>4</th>\n",
       "      <td>4</td>\n",
       "      <td>105</td>\n",
       "      <td>0.0</td>\n",
       "      <td>0.0</td>\n",
       "      <td>1.0</td>\n",
       "      <td>0.929</td>\n",
       "      <td>0.0</td>\n",
       "      <td>0.033</td>\n",
       "      <td>0.0</td>\n",
       "      <td>0.022</td>\n",
       "      <td>...</td>\n",
       "      <td>99.0</td>\n",
       "      <td>67.0</td>\n",
       "      <td>95.0</td>\n",
       "      <td>63.0</td>\n",
       "      <td>67.0</td>\n",
       "      <td>48.0</td>\n",
       "      <td>82.0</td>\n",
       "      <td>59.0</td>\n",
       "      <td>64.0</td>\n",
       "      <td>65.0</td>\n",
       "    </tr>\n",
       "  </tbody>\n",
       "</table>\n",
       "<p>5 rows × 36 columns</p>\n",
       "</div>"
      ],
      "text/plain": [
       "   ID  station_id  hdres_100  hdres_500  ldres_100  ldres_500  industry_100  \\\n",
       "0   0         105        0.0        0.0        1.0      0.929           0.0   \n",
       "1   1         105        0.0        0.0        1.0      0.929           0.0   \n",
       "2   2         105        0.0        0.0        1.0      0.929           0.0   \n",
       "3   3         105        0.0        0.0        1.0      0.929           0.0   \n",
       "4   4         105        0.0        0.0        1.0      0.929           0.0   \n",
       "\n",
       "   industry_500  urbgreen_100  urbgreen_500   ...     value_0  value_1  \\\n",
       "0         0.033           0.0         0.022   ...        53.0     46.0   \n",
       "1         0.033           0.0         0.022   ...        55.0     47.0   \n",
       "2         0.033           0.0         0.022   ...        84.5     54.0   \n",
       "3         0.033           0.0         0.022   ...        97.0     59.0   \n",
       "4         0.033           0.0         0.022   ...        99.0     67.0   \n",
       "\n",
       "   value_2  value_3  value_4  value_5  value_6  value_7  value_8  value_9  \n",
       "0     52.0     44.0     40.0     38.0     54.0     36.0     39.0     42.0  \n",
       "1     54.0     45.0     41.0     39.0     55.0     37.0     40.0     43.0  \n",
       "2     78.0     49.0     47.0     42.0     63.0     42.0     48.0     49.0  \n",
       "3     84.0     55.0     58.0     48.0     72.0     51.0     57.0     59.0  \n",
       "4     95.0     63.0     67.0     48.0     82.0     59.0     64.0     65.0  \n",
       "\n",
       "[5 rows x 36 columns]"
      ]
     },
     "execution_count": 24,
     "metadata": {},
     "output_type": "execute_result"
    }
   ],
   "source": [
    "df_train_X.head()"
   ]
  },
  {
   "cell_type": "markdown",
   "metadata": {},
   "source": [
    "#  <span style=\"color:black\">INPUT FEATURES</span>"
   ]
  },
  {
   "cell_type": "code",
   "execution_count": null,
   "metadata": {},
   "outputs": [],
   "source": [
    "#'station_id','hdres_100','hdres_500','ldres_100','ldres_500','industry_100','industry_500','urbgreen_100','urbgreen_500','roads_length_25','roads_length_100','roads_length_500','major_roads_length_25','major_roads_length_100','major_roads_length_500'\n",
    "X=df_train_X[['station_id','hdres_100','hdres_500','ldres_100','ldres_500','industry_100','industry_500','urbgreen_100','urbgreen_500','roads_length_25','roads_length_100','roads_length_500','major_roads_length_25','major_roads_length_100','major_roads_length_500','value_0','value_1','value_2','value_3','value_4','value_5','value_6','value_7','value_8','value_9']]\n",
    "y=df_train_Y['value']\n",
    "X_train, X_test, y_train, y_test = train_test_split(X, y, test_size=0.3, random_state=101)"
   ]
  },
  {
   "cell_type": "markdown",
   "metadata": {},
   "source": [
    "#  <span style=\"color:red\">LINEAR REGRESSION</span>"
   ]
  },
  {
   "cell_type": "code",
   "execution_count": 26,
   "metadata": {},
   "outputs": [
    {
     "data": {
      "text/plain": [
       "LinearRegression(copy_X=True, fit_intercept=True, n_jobs=1, normalize=False)"
      ]
     },
     "execution_count": 26,
     "metadata": {},
     "output_type": "execute_result"
    }
   ],
   "source": [
    "from sklearn.linear_model import LinearRegression\n",
    "lm = LinearRegression()\n",
    "lm.fit(X_train, y_train)"
   ]
  },
  {
   "cell_type": "code",
   "execution_count": 27,
   "metadata": {},
   "outputs": [
    {
     "name": "stdout",
     "output_type": "stream",
     "text": [
      "-0.2064618788985868\n"
     ]
    }
   ],
   "source": [
    "# print the intercept\n",
    "print(lm.intercept_)"
   ]
  },
  {
   "cell_type": "code",
   "execution_count": 28,
   "metadata": {},
   "outputs": [
    {
     "data": {
      "text/html": [
       "<div>\n",
       "<style scoped>\n",
       "    .dataframe tbody tr th:only-of-type {\n",
       "        vertical-align: middle;\n",
       "    }\n",
       "\n",
       "    .dataframe tbody tr th {\n",
       "        vertical-align: top;\n",
       "    }\n",
       "\n",
       "    .dataframe thead th {\n",
       "        text-align: right;\n",
       "    }\n",
       "</style>\n",
       "<table border=\"1\" class=\"dataframe\">\n",
       "  <thead>\n",
       "    <tr style=\"text-align: right;\">\n",
       "      <th></th>\n",
       "      <th>Coefficient</th>\n",
       "    </tr>\n",
       "  </thead>\n",
       "  <tbody>\n",
       "    <tr>\n",
       "      <th>station_id</th>\n",
       "      <td>-0.004159</td>\n",
       "    </tr>\n",
       "    <tr>\n",
       "      <th>hdres_100</th>\n",
       "      <td>-1.540626</td>\n",
       "    </tr>\n",
       "    <tr>\n",
       "      <th>hdres_500</th>\n",
       "      <td>-1.985937</td>\n",
       "    </tr>\n",
       "    <tr>\n",
       "      <th>ldres_100</th>\n",
       "      <td>-2.280301</td>\n",
       "    </tr>\n",
       "    <tr>\n",
       "      <th>ldres_500</th>\n",
       "      <td>-1.105521</td>\n",
       "    </tr>\n",
       "    <tr>\n",
       "      <th>industry_100</th>\n",
       "      <td>-3.810802</td>\n",
       "    </tr>\n",
       "    <tr>\n",
       "      <th>industry_500</th>\n",
       "      <td>-0.329440</td>\n",
       "    </tr>\n",
       "    <tr>\n",
       "      <th>urbgreen_100</th>\n",
       "      <td>3.148439</td>\n",
       "    </tr>\n",
       "    <tr>\n",
       "      <th>urbgreen_500</th>\n",
       "      <td>-4.553037</td>\n",
       "    </tr>\n",
       "    <tr>\n",
       "      <th>roads_length_25</th>\n",
       "      <td>-1.200148</td>\n",
       "    </tr>\n",
       "    <tr>\n",
       "      <th>roads_length_100</th>\n",
       "      <td>7.469473</td>\n",
       "    </tr>\n",
       "    <tr>\n",
       "      <th>roads_length_500</th>\n",
       "      <td>-5.737998</td>\n",
       "    </tr>\n",
       "    <tr>\n",
       "      <th>major_roads_length_25</th>\n",
       "      <td>7.164246</td>\n",
       "    </tr>\n",
       "    <tr>\n",
       "      <th>major_roads_length_100</th>\n",
       "      <td>-19.525912</td>\n",
       "    </tr>\n",
       "    <tr>\n",
       "      <th>major_roads_length_500</th>\n",
       "      <td>41.195786</td>\n",
       "    </tr>\n",
       "    <tr>\n",
       "      <th>value_0</th>\n",
       "      <td>0.193828</td>\n",
       "    </tr>\n",
       "    <tr>\n",
       "      <th>value_1</th>\n",
       "      <td>0.129469</td>\n",
       "    </tr>\n",
       "    <tr>\n",
       "      <th>value_2</th>\n",
       "      <td>0.130762</td>\n",
       "    </tr>\n",
       "    <tr>\n",
       "      <th>value_3</th>\n",
       "      <td>0.175577</td>\n",
       "    </tr>\n",
       "    <tr>\n",
       "      <th>value_4</th>\n",
       "      <td>0.207050</td>\n",
       "    </tr>\n",
       "    <tr>\n",
       "      <th>value_5</th>\n",
       "      <td>0.055165</td>\n",
       "    </tr>\n",
       "    <tr>\n",
       "      <th>value_6</th>\n",
       "      <td>0.032531</td>\n",
       "    </tr>\n",
       "    <tr>\n",
       "      <th>value_7</th>\n",
       "      <td>0.070452</td>\n",
       "    </tr>\n",
       "    <tr>\n",
       "      <th>value_8</th>\n",
       "      <td>-0.025028</td>\n",
       "    </tr>\n",
       "    <tr>\n",
       "      <th>value_9</th>\n",
       "      <td>0.016473</td>\n",
       "    </tr>\n",
       "  </tbody>\n",
       "</table>\n",
       "</div>"
      ],
      "text/plain": [
       "                        Coefficient\n",
       "station_id                -0.004159\n",
       "hdres_100                 -1.540626\n",
       "hdres_500                 -1.985937\n",
       "ldres_100                 -2.280301\n",
       "ldres_500                 -1.105521\n",
       "industry_100              -3.810802\n",
       "industry_500              -0.329440\n",
       "urbgreen_100               3.148439\n",
       "urbgreen_500              -4.553037\n",
       "roads_length_25           -1.200148\n",
       "roads_length_100           7.469473\n",
       "roads_length_500          -5.737998\n",
       "major_roads_length_25      7.164246\n",
       "major_roads_length_100   -19.525912\n",
       "major_roads_length_500    41.195786\n",
       "value_0                    0.193828\n",
       "value_1                    0.129469\n",
       "value_2                    0.130762\n",
       "value_3                    0.175577\n",
       "value_4                    0.207050\n",
       "value_5                    0.055165\n",
       "value_6                    0.032531\n",
       "value_7                    0.070452\n",
       "value_8                   -0.025028\n",
       "value_9                    0.016473"
      ]
     },
     "execution_count": 28,
     "metadata": {},
     "output_type": "execute_result"
    }
   ],
   "source": [
    "coeff_df = pd.DataFrame(lm.coef_,X.columns,columns=['Coefficient'])\n",
    "coeff_df"
   ]
  },
  {
   "cell_type": "code",
   "execution_count": 29,
   "metadata": {},
   "outputs": [],
   "source": [
    "lm_predictions = lm.predict(X_test)"
   ]
  },
  {
   "cell_type": "code",
   "execution_count": 30,
   "metadata": {},
   "outputs": [
    {
     "data": {
      "text/plain": [
       "<matplotlib.collections.PathCollection at 0x18dab83b630>"
      ]
     },
     "execution_count": 30,
     "metadata": {},
     "output_type": "execute_result"
    },
    {
     "data": {
      "image/png": "[encoded data removed]",
      "text/plain": [
       "<Figure size 432x288 with 1 Axes>"
      ]
     },
     "metadata": {},
     "output_type": "display_data"
    }
   ],
   "source": [
    "plt.scatter(y_test,lm_predictions)"
   ]
  },
  {
   "cell_type": "code",
   "execution_count": 31,
   "metadata": {},
   "outputs": [],
   "source": [
    "from sklearn import metrics"
   ]
  },
  {
   "cell_type": "code",
   "execution_count": 32,
   "metadata": {},
   "outputs": [
    {
     "name": "stdout",
     "output_type": "stream",
     "text": [
      "MAE: 5.895404587598737\n",
      "MSE: 92.05888959498219\n",
      "RMSE: 9.594732387877329\n"
     ]
    }
   ],
   "source": [
    "print('MAE:', metrics.mean_absolute_error(y_test, lm_predictions))\n",
    "print('MSE:', metrics.mean_squared_error(y_test, lm_predictions))\n",
    "print('RMSE:', np.sqrt(metrics.mean_squared_error(y_test, lm_predictions)))"
   ]
  },
  {
   "cell_type": "markdown",
   "metadata": {},
   "source": [
    "# <span style=\"color:red\">GRADIENT BOOSTING REGRESSOR</span>"
   ]
  },
  {
   "cell_type": "code",
   "execution_count": 33,
   "metadata": {},
   "outputs": [],
   "source": [
    "from sklearn import ensemble\n",
    "params = {'n_estimators': 50, 'max_depth': 4, 'min_samples_split': 2,\n",
    "          'learning_rate': 0.01, 'loss': 'ls'}\n",
    "gradient_boost_model = ensemble.GradientBoostingRegressor(**params)"
   ]
  },
  {
   "cell_type": "code",
   "execution_count": 34,
   "metadata": {
    "code_folding": []
   },
   "outputs": [
    {
     "data": {
      "text/plain": [
       "GradientBoostingRegressor(alpha=0.9, criterion='friedman_mse', init=None,\n",
       "             learning_rate=0.01, loss='ls', max_depth=4, max_features=None,\n",
       "             max_leaf_nodes=None, min_impurity_decrease=0.0,\n",
       "             min_impurity_split=None, min_samples_leaf=1,\n",
       "             min_samples_split=2, min_weight_fraction_leaf=0.0,\n",
       "             n_estimators=50, presort='auto', random_state=None,\n",
       "             subsample=1.0, verbose=0, warm_start=False)"
      ]
     },
     "execution_count": 34,
     "metadata": {},
     "output_type": "execute_result"
    }
   ],
   "source": [
    "gradient_boost_model.fit(X_train, y_train)"
   ]
  },
  {
   "cell_type": "code",
   "execution_count": 41,
   "metadata": {},
   "outputs": [
    {
     "name": "stdout",
     "output_type": "stream",
     "text": [
      "MSE: 169.4512\n",
      "MSE_log: 0.2794\n"
     ]
    }
   ],
   "source": [
    "gb_predictions = gradient_boost_model.predict(X_test)\n",
    "mse = mean_squared_error(y_test, gb_predictions)\n",
    "print(\"MSE: %.4f\" % mse)\n",
    "\n",
    "mse_log = mean_squared_log_error(y_test, gb_predictions)\n",
    "print(\"MSE_log: %.4f\" % mse_log)"
   ]
  },
  {
   "cell_type": "code",
   "execution_count": 42,
   "metadata": {},
   "outputs": [],
   "source": [
    "# y_test.head()"
   ]
  },
  {
   "cell_type": "markdown",
   "metadata": {},
   "source": [
    "# <span style=\"color:red\">DECISION TREE REGRESSOR</span>"
   ]
  },
  {
   "cell_type": "code",
   "execution_count": 43,
   "metadata": {},
   "outputs": [
    {
     "data": {
      "text/plain": [
       "DecisionTreeRegressor(criterion='mse', max_depth=None, max_features=None,\n",
       "           max_leaf_nodes=None, min_impurity_decrease=0.0,\n",
       "           min_impurity_split=None, min_samples_leaf=1,\n",
       "           min_samples_split=2, min_weight_fraction_leaf=0.0,\n",
       "           presort=False, random_state=None, splitter='best')"
      ]
     },
     "execution_count": 43,
     "metadata": {},
     "output_type": "execute_result"
    }
   ],
   "source": [
    "from sklearn.tree import DecisionTreeRegressor\n",
    "dt_R = DecisionTreeRegressor()\n",
    "dt_R.fit(X_train, y_train)"
   ]
  },
  {
   "cell_type": "code",
   "execution_count": 44,
   "metadata": {},
   "outputs": [],
   "source": [
    "dt_predictions = dt_R.predict(X_test)"
   ]
  },
  {
   "cell_type": "code",
   "execution_count": 45,
   "metadata": {},
   "outputs": [
    {
     "data": {
      "text/plain": [
       "68865     18.0\n",
       "209841    15.3\n",
       "260495    18.1\n",
       "562992    36.0\n",
       "295934    52.0\n",
       "Name: value, dtype: float64"
      ]
     },
     "execution_count": 45,
     "metadata": {},
     "output_type": "execute_result"
    }
   ],
   "source": [
    "y_test.head()"
   ]
  },
  {
   "cell_type": "code",
   "execution_count": 56,
   "metadata": {},
   "outputs": [
    {
     "name": "stdout",
     "output_type": "stream",
     "text": [
      "MSE: 115.8290\n",
      "MSE_log: 0.1516\n"
     ]
    }
   ],
   "source": [
    "mse = mean_squared_error(y_test, dt_predictions)\n",
    "print(\"MSE: %.4f\" % mse)\n",
    "\n",
    "mse_log = mean_squared_log_error(y_test, dt_predictions)\n",
    "print(\"MSE_log: %.4f\" % mse_log)"
   ]
  },
  {
   "cell_type": "code",
   "execution_count": 47,
   "metadata": {},
   "outputs": [],
   "source": [
    "# dt_R.score()"
   ]
  },
  {
   "cell_type": "markdown",
   "metadata": {},
   "source": [
    "# <span style=\"color:red\">RANDOM FOREST</span>"
   ]
  },
  {
   "cell_type": "code",
   "execution_count": 48,
   "metadata": {},
   "outputs": [],
   "source": [
    "from sklearn.preprocessing import StandardScaler\n",
    "from sklearn.ensemble import RandomForestRegressor\n",
    "\n",
    "sc = StandardScaler()\n",
    "X_train = sc.fit_transform(X_train)\n",
    "X_test = sc.transform(X_test)\n",
    "\n",
    "rf = RandomForestRegressor(n_estimators=10, random_state=0)\n",
    "rf.fit(X_train, y_train)\n",
    "rf_predictions = rf.predict(X_test)"
   ]
  },
  {
   "cell_type": "code",
   "execution_count": 57,
   "metadata": {},
   "outputs": [
    {
     "name": "stdout",
     "output_type": "stream",
     "text": [
      "MSE: 59.1350\n",
      "MSE_log: 0.0851\n"
     ]
    }
   ],
   "source": [
    "mse = mean_squared_error(y_test, rf_predictions)\n",
    "print(\"MSE: %.4f\" % mse)\n",
    "\n",
    "mse_log = mean_squared_log_error(y_test, rf_predictions)\n",
    "print(\"MSE_log: %.4f\" % mse_log)"
   ]
  },
  {
   "cell_type": "code",
   "execution_count": 58,
   "metadata": {},
   "outputs": [
    {
     "data": {
      "text/plain": [
       "<matplotlib.collections.PathCollection at 0x18d80b94c50>"
      ]
     },
     "execution_count": 58,
     "metadata": {},
     "output_type": "execute_result"
    },
    {
     "data": {
      "image/png": "[encoded data removed]",
      "text/plain": [
       "<Figure size 1152x288 with 2 Axes>"
      ]
     },
     "metadata": {},
     "output_type": "display_data"
    }
   ],
   "source": [
    "plt.figure(figsize=(16,4))\n",
    "\n",
    "plt.subplot(1,2,1)\n",
    "plt.title('Y_réel en fonction de Y_pred')\n",
    "plt.scatter(y_test,rf_predictions)\n",
    "\n",
    "plt.subplot(1,2,2)\n",
    "plt.title('Résidus')\n",
    "plt.scatter(y_test,(rf_predictions-y_test)/rf_predictions)"
   ]
  },
  {
   "cell_type": "code",
   "execution_count": 52,
   "metadata": {},
   "outputs": [],
   "source": [
    "importances = list(rf.feature_importances_)"
   ]
  },
  {
   "cell_type": "code",
   "execution_count": 53,
   "metadata": {},
   "outputs": [],
   "source": [
    "feature_list = ['station_id','hdres_100','hdres_500','ldres_100','ldres_500','industry_100','industry_500','urbgreen_100','urbgreen_500','roads_length_25','roads_length_100','roads_length_500','major_roads_length_25','major_roads_length_100','major_roads_length_500','value_0','value_1','value_2','value_3','value_4','value_5','value_6','value_7','value_8','value_9']"
   ]
  },
  {
   "cell_type": "code",
   "execution_count": 54,
   "metadata": {},
   "outputs": [],
   "source": [
    "feature_importances = [(feature, round(importance, 2)) for feature, importance in zip(feature_list, importances)]\n",
    "feature_importances = sorted(feature_importances, key = lambda x: x[1], reverse = True)"
   ]
  },
  {
   "cell_type": "code",
   "execution_count": 55,
   "metadata": {},
   "outputs": [
    {
     "data": {
      "image/png": "[encoded data removed]",
      "text/plain": [
       "<Figure size 1440x792 with 1 Axes>"
      ]
     },
     "metadata": {},
     "output_type": "display_data"
    }
   ],
   "source": [
    "std = np.std([tree.feature_importances_ for tree in rf.estimators_],axis=0)\n",
    "\n",
    "# Plot the feature importances of the forest\n",
    "plt.figure(figsize=(20,11))\n",
    "plt.title(\"Feature importances\")\n",
    "plt.bar(range(len(feature_list)), importances,\n",
    "       color=\"r\", yerr=std[range(len(feature_list))], align=\"center\")\n",
    "plt.xticks(range(len(feature_list)), feature_list, rotation='vertical')\n",
    "plt.xlim([-1, len(feature_list)])\n",
    "plt.show()"
   ]
  },
  {
   "cell_type": "markdown",
   "metadata": {},
   "source": [
    "# <span style=\"color:green\">RESULTS</span>"
   ]
  },
  {
   "cell_type": "code",
   "execution_count": null,
   "metadata": {},
   "outputs": [],
   "source": []
  }
 ],
 "metadata": {
  "kernelspec": {
   "display_name": "Python 3",
   "language": "python",
   "name": "python3"
  },
  "language_info": {
   "codemirror_mode": {
    "name": "ipython",
    "version": 3
   },
   "file_extension": ".py",
   "mimetype": "text/x-python",
   "name": "python",
   "nbconvert_exporter": "python",
   "pygments_lexer": "ipython3",
   "version": "3.6.5"
  },
  "toc": {
   "base_numbering": 1,
   "nav_menu": {},
   "number_sections": true,
   "sideBar": true,
   "skip_h1_title": false,
   "title_cell": "Table of Contents",
   "title_sidebar": "Contents",
   "toc_cell": false,
   "toc_position": {
    "height": "calc(100% - 180px)",
    "left": "10px",
    "top": "150px",
    "width": "319px"
   },
   "toc_section_display": true,
   "toc_window_display": true
  }
 },
 "nbformat": 4,
 "nbformat_minor": 2
}
